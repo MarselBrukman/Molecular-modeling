{
 "cells": [
  {
   "cell_type": "markdown",
   "id": "c48a0d50",
   "metadata": {},
   "source": [
    "# Вычисление параметров молекулы водорода"
   ]
  },
  {
   "cell_type": "code",
   "execution_count": 3,
   "id": "0fe02c2c",
   "metadata": {},
   "outputs": [],
   "source": [
    "import hfscf\n",
    "from hfscf import *"
   ]
  },
  {
   "cell_type": "code",
   "execution_count": 4,
   "id": "a7adeb67",
   "metadata": {},
   "outputs": [],
   "source": [
    "import sympy"
   ]
  },
  {
   "cell_type": "markdown",
   "id": "7bdbfe9d",
   "metadata": {},
   "source": [
    "В этом практикуме мы должны, используя метод Хартри-Фока и зная расстояние между ядрами в молекуле водорода, расчитать молекулярные орбитали и энергию электронной подсистемы, а также полную энергию молекулы. Вычисление молекулярных орбиталей и их энергий будем проводить по алгоритму, который основан на идее самосогласованного поля: молекулярные орбитали подбираются так, чтобы создаваемое электронами электростатическое поле было согласовано с самими этими орбиталями, которые получаются из него с помощью уравнения Хартри-Фока."
   ]
  },
  {
   "cell_type": "code",
   "execution_count": 35,
   "id": "39ef1daf",
   "metadata": {},
   "outputs": [],
   "source": [
    "def SCF (r = 1.4632, Z=[1,1], b1 = GTO[\"H\"], b2 = GTO[\"H\"], b = 6, vbs=True):\n",
    "    #На вход задаём расстояние между ядрами, заряды ядер и базисные наборы гауссиан для аппроксимации ими волновых\n",
    "    #функций. Будем использовать по шесть гауссиан для каждого из двух атомов водорода\n",
    "    R = [0, r]\n",
    "    if vbs: print(\"*) Generando matriz de traslape S.\")\n",
    "    s_scf = S(R,b1,b2,b)\n",
    "    #расчитываем интеграл перекрывания\n",
    "    if vbs: print(\"\\n*) Generando hamiltoniano H.\")\n",
    "    h_scf = H(R,Z,b1,b1,b)\n",
    "    #расчитываем одноэлектронный гамильтониан, включающий кинетическую энергию электрона\n",
    "    #и энергию его притяжения к ядрам\n",
    "        \n",
    "    # Diagonalizar matriz S y hallar matriz X\n",
    "    if vbs: print(\"\\n*) Diagonalizando matriz S y hallando matriz diagonal X.\")\n",
    "    X = diagon(m=s_scf)\n",
    "    Xa = X.getH()\n",
    "    \n",
    "    # Estimar matriz de densidad P\n",
    "    #Расчитываем матрицу электронной плотности\n",
    "    if vbs: print(\"\\n*) Creando matriz de densidad P.\")\n",
    "    p_scf = np.matrix([[0,0],[0,0]], dtype=np.float64)  # Referencia (7) p. 148\n",
    "    \n",
    "    #Повторям вычисления до сходимости или до 50 интераций\n",
    "    # Comenzar proceso iterativo\n",
    "    if vbs: print(\"\\n*) Comenzando con el SCF.\")\n",
    "    for iteracion in range(50):\n",
    "        # Construir matriz de Fock F\n",
    "        # F = H + G\n",
    "        if vbs: print(\"\\n**) Generando la matriz de Fock: calculando \\\n",
    "integrales de dos electrones.\")\n",
    "        g_scf = G(r,p_scf,b1,b2,b)\n",
    "        f_scf = h_scf + g_scf   # Referencia (7) p. 141 eq. (3.154)\n",
    "        #Конструируем фокиан из одноэлектронного гамильтониана и обменного и кулоновского операторов\n",
    "        \n",
    "        # Construir matriz F'\n",
    "        # F' = X_adj * F * X\n",
    "        if vbs: print(\"**) Cambiando la base de F.\")\n",
    "        f_tra = Xa * f_scf * X\n",
    "        \n",
    "        # Diagonalizar matriz F y constuir matriz C'\n",
    "        if vbs: print(\"**) Diagonalizando F' y generando C'.\")\n",
    "        c_tra = diagon2(m=f_tra)\n",
    "        \n",
    "        # Construir matriz C\n",
    "        # C = X * C'\n",
    "        if vbs: print(\"**) Construyendo matriz de coeficientes C.\")\n",
    "        c_scf = X * c_tra\n",
    "        #Расчитываем матрицу коэффициентов из уравения Хартри-Фока\n",
    "        \n",
    "        # Construir matriz P a partir de matriz C\n",
    "        if vbs: print(\"**) Recalculando matriz de densidad P.\")\n",
    "        p_temp = P(C=c_scf)\n",
    "        #Пересчитываем матрицу плотности, используя найденные коэффициенты\n",
    "        \n",
    "        print(\"\\nConcluida la \" + str(iteracion + 1) + \". iteracion.\\n\")\n",
    "        \n",
    "        # Revisar convergencia\n",
    "        #Проверяем сходимость и выдаём результат\n",
    "        if np.linalg.norm(p_temp - p_scf) < 1E-4: # Referencia (7) p. 148\n",
    "            print(\"\\n\\n-->El campo autoconsistente SI ha convergido!\")\n",
    "            return {\"S\":s_scf,\"H\":h_scf,\"X\": X,\"F\":f_scf,\"C\":c_scf,\"P\":p_temp}\n",
    "        else:\n",
    "            p_scf = p_temp\n",
    "    print(\"\\n\\n-->El campo autoconsistente NO ha convergido!\\nRevisar supuestos.\")\n",
    "    return {\"S\":s_scf,\"H\":h_scf,\"X\": X,\"F\":f_scf,\"C\":c_scf,\"P\":p_temp}"
   ]
  },
  {
   "cell_type": "markdown",
   "id": "21e5c1fb",
   "metadata": {},
   "source": [
    "В итоге после запуска функции мы получаем следующие матрицы: S - матрица перекрывания атомных орбиталей, H - одноэлектронный гамильтониан, X - ортогонализированная матрица S, F - фокиан, P - матрица электронной плотсности, C - матрица коэффициентов"
   ]
  },
  {
   "cell_type": "code",
   "execution_count": 43,
   "id": "2805d2c4",
   "metadata": {},
   "outputs": [
    {
     "name": "stdout",
     "output_type": "stream",
     "text": [
      "*) Generando matriz de traslape S.\n",
      "\n",
      "*) Generando hamiltoniano H.\n",
      "\n",
      "*) Diagonalizando matriz S y hallando matriz diagonal X.\n",
      "\n",
      "*) Creando matriz de densidad P.\n",
      "\n",
      "*) Comenzando con el SCF.\n",
      "\n",
      "**) Generando la matriz de Fock: calculando integrales de dos electrones.\n",
      "**) Cambiando la base de F.\n",
      "**) Diagonalizando F' y generando C'.\n",
      "**) Construyendo matriz de coeficientes C.\n",
      "**) Recalculando matriz de densidad P.\n",
      "\n",
      "Concluida la 1. iteracion.\n",
      "\n",
      "\n",
      "**) Generando la matriz de Fock: calculando integrales de dos electrones.\n",
      "**) Cambiando la base de F.\n",
      "**) Diagonalizando F' y generando C'.\n",
      "**) Construyendo matriz de coeficientes C.\n",
      "**) Recalculando matriz de densidad P.\n",
      "\n",
      "Concluida la 2. iteracion.\n",
      "\n",
      "\n",
      "**) Generando la matriz de Fock: calculando integrales de dos electrones.\n",
      "**) Cambiando la base de F.\n",
      "**) Diagonalizando F' y generando C'.\n",
      "**) Construyendo matriz de coeficientes C.\n",
      "**) Recalculando matriz de densidad P.\n",
      "\n",
      "Concluida la 3. iteracion.\n",
      "\n",
      "\n",
      "**) Generando la matriz de Fock: calculando integrales de dos electrones.\n",
      "**) Cambiando la base de F.\n",
      "**) Diagonalizando F' y generando C'.\n",
      "**) Construyendo matriz de coeficientes C.\n",
      "**) Recalculando matriz de densidad P.\n",
      "\n",
      "Concluida la 4. iteracion.\n",
      "\n",
      "\n",
      "**) Generando la matriz de Fock: calculando integrales de dos electrones.\n",
      "**) Cambiando la base de F.\n",
      "**) Diagonalizando F' y generando C'.\n",
      "**) Construyendo matriz de coeficientes C.\n",
      "**) Recalculando matriz de densidad P.\n",
      "\n",
      "Concluida la 5. iteracion.\n",
      "\n",
      "\n",
      "**) Generando la matriz de Fock: calculando integrales de dos electrones.\n",
      "**) Cambiando la base de F.\n",
      "**) Diagonalizando F' y generando C'.\n",
      "**) Construyendo matriz de coeficientes C.\n",
      "**) Recalculando matriz de densidad P.\n",
      "\n",
      "Concluida la 6. iteracion.\n",
      "\n",
      "\n",
      "**) Generando la matriz de Fock: calculando integrales de dos electrones.\n",
      "**) Cambiando la base de F.\n",
      "**) Diagonalizando F' y generando C'.\n",
      "**) Construyendo matriz de coeficientes C.\n",
      "**) Recalculando matriz de densidad P.\n",
      "\n",
      "Concluida la 7. iteracion.\n",
      "\n",
      "\n",
      "\n",
      "-->El campo autoconsistente SI ha convergido!\n"
     ]
    }
   ],
   "source": [
    "HF = SCF()"
   ]
  },
  {
   "cell_type": "code",
   "execution_count": 45,
   "id": "a7031afc",
   "metadata": {},
   "outputs": [],
   "source": [
    "c = HF['C']\n",
    "x = HF['X']\n",
    "f = HF['F']\n",
    "p = HF['P']\n",
    "h = HF['H']"
   ]
  },
  {
   "cell_type": "markdown",
   "id": "71b7e05b",
   "metadata": {},
   "source": [
    "С помощью расчитанных матриц визуализируем молекулярные орбитали молекулы водорода и электронную плотность в 1D и 2D."
   ]
  },
  {
   "cell_type": "code",
   "execution_count": 46,
   "id": "aaf6480a",
   "metadata": {},
   "outputs": [
    {
     "data": {
      "image/png": "[encoded data removed]",
      "text/plain": [
       "<Figure size 432x288 with 1 Axes>"
      ]
     },
     "metadata": {
      "needs_background": "light"
     },
     "output_type": "display_data"
    }
   ],
   "source": [
    "orbital(c)"
   ]
  },
  {
   "cell_type": "code",
   "execution_count": 39,
   "id": "077a186a",
   "metadata": {},
   "outputs": [
    {
     "data": {
      "image/png": "[encoded data removed]",
      "text/plain": [
       "<Figure size 432x288 with 2 Axes>"
      ]
     },
     "metadata": {
      "needs_background": "light"
     },
     "output_type": "display_data"
    }
   ],
   "source": [
    "orbital2D(c,x,f)"
   ]
  },
  {
   "cell_type": "markdown",
   "id": "3a2fffd8",
   "metadata": {},
   "source": [
    "Мы видим, что у нас есть две молекулярные орбитали - одна с положительной энергией - разрыхляющая, и одна с отрицательной - связывающая."
   ]
  },
  {
   "cell_type": "markdown",
   "id": "bd5c6f5c",
   "metadata": {},
   "source": [
    "Энергия электронов (кинетическая + притяжение к ядрам + отталкивание):"
   ]
  },
  {
   "cell_type": "code",
   "execution_count": 47,
   "id": "a0fcda61",
   "metadata": {},
   "outputs": [
    {
     "data": {
      "text/plain": [
       "-1.8139359654437919"
      ]
     },
     "execution_count": 47,
     "metadata": {},
     "output_type": "execute_result"
    }
   ],
   "source": [
    "ener_elec(p, h, f)"
   ]
  },
  {
   "cell_type": "markdown",
   "id": "ccffbb30",
   "metadata": {},
   "source": [
    "Полная энергия системы (энергия электронов + энергия межъядерного отталкивания):"
   ]
  },
  {
   "cell_type": "code",
   "execution_count": 41,
   "id": "6590905a",
   "metadata": {},
   "outputs": [
    {
     "data": {
      "text/plain": [
       "-1.130502395186821"
      ]
     },
     "execution_count": 41,
     "metadata": {},
     "output_type": "execute_result"
    }
   ],
   "source": [
    "ener_tot(elec=ener_elec(p,h,f))"
   ]
  }
 ],
 "metadata": {
  "kernelspec": {
   "display_name": "Python 3",
   "language": "python",
   "name": "python3"
  },
  "language_info": {
   "codemirror_mode": {
    "name": "ipython",
    "version": 3
   },
   "file_extension": ".py",
   "mimetype": "text/x-python",
   "name": "python",
   "nbconvert_exporter": "python",
   "pygments_lexer": "ipython3",
   "version": "3.9.1"
  }
 },
 "nbformat": 4,
 "nbformat_minor": 5
}
